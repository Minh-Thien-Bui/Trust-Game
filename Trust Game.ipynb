{
 "cells": [
  {
   "cell_type": "markdown",
   "id": "720e126b",
   "metadata": {},
   "source": [
    "# Cheating the Trust Game"
   ]
  },
  {
   "cell_type": "code",
   "execution_count": 210,
   "id": "cc71d0b9",
   "metadata": {},
   "outputs": [],
   "source": [
    "from itertools import product\n",
    "from random import randrange"
   ]
  },
  {
   "cell_type": "markdown",
   "id": "5e1acef1",
   "metadata": {},
   "source": [
    "https://ncase.me/trust/\n",
    "\n",
    "The Evolution of Trust is a simulation of the Axelrod tournament that allows you to simulate games between bots or play against the AI yourself.\n",
    "Once you know how each opponent AI is programmed, you can devise a strategy to generate the highest score every time.\n",
    "Here are my strategies for getting a perfect score against every single opponent in the game, along with proof that these strategies work.\n",
    "Cheat is represented by 0 while cooperate equals 1."
   ]
  },
  {
   "cell_type": "code",
   "execution_count": 211,
   "id": "9d38614a",
   "metadata": {},
   "outputs": [],
   "source": [
    "def CalculateScore(playerMove, botMove):\n",
    "    playerScore = 0\n",
    "    botScore = 0\n",
    "    \n",
    "    if playerMove == 0 and botMove == 0:\n",
    "        playerScore += 2\n",
    "        botScore += 2\n",
    "        \n",
    "    elif playerMove == 0 and botMove == 1:\n",
    "        botScore += 3\n",
    "        playerScore -= 1\n",
    "\n",
    "    elif playerMove == 1 and botMove == 0:\n",
    "        playerScore += 3\n",
    "        botScore -= 1\n",
    "\n",
    "    return playerScore, botScore"
   ]
  },
  {
   "cell_type": "code",
   "execution_count": 212,
   "id": "75aa188a",
   "metadata": {},
   "outputs": [],
   "source": [
    "def StartGame(rounds):\n",
    "    moves = [0, 1]\n",
    "    cheatCoop = list(product(moves, repeat = rounds))\n",
    "    \n",
    "    return 0, cheatCoop"
   ]
  },
  {
   "cell_type": "code",
   "execution_count": 213,
   "id": "d4023aa2",
   "metadata": {},
   "outputs": [],
   "source": [
    "def EndGame(winningStrat, highScore, oppScore):\n",
    "    print(\n",
    "        'Best Strategy:', winningStrat,\n",
    "        '\\nPlayer Score:', highScore,\n",
    "        '\\nOpponent Score:', oppScore\n",
    "    )"
   ]
  },
  {
   "cell_type": "markdown",
   "id": "7e089e35",
   "metadata": {},
   "source": [
    "## Copycat\n",
    "\n",
    "Cooperate for every round until the last one, then cheat him before he can retaliate."
   ]
  },
  {
   "cell_type": "code",
   "execution_count": 214,
   "id": "d64f47cf",
   "metadata": {},
   "outputs": [
    {
     "name": "stdout",
     "output_type": "stream",
     "text": [
      "Best Strategy: (0, 0, 0, 0, 1) \n",
      "Player Score: 11 \n",
      "Opponent Score: 7\n",
      "Total Score: 11\n"
     ]
    }
   ],
   "source": [
    "totalScore = 0\n",
    "highScore, cheatCoop = StartGame(5)\n",
    "\n",
    "for moveList in cheatCoop:\n",
    "    playerScore = 0\n",
    "    botScore = 0\n",
    "    botMove = 0\n",
    "\n",
    "    for move in moveList:\n",
    "        playerGains, botGains = CalculateScore(move, botMove)\n",
    "        playerScore += playerGains\n",
    "        botScore += botGains\n",
    "        botMove = move\n",
    "\n",
    "    if playerScore >= highScore:\n",
    "        highScore = playerScore\n",
    "        oppScore = botScore\n",
    "        winningStrat = moveList\n",
    "\n",
    "totalScore += highScore\n",
    "EndGame(winningStrat, highScore, oppScore)\n",
    "print('Total Score:', totalScore)"
   ]
  },
  {
   "cell_type": "markdown",
   "id": "3ca435e7",
   "metadata": {},
   "source": [
    "## Cheater\n",
    "\n",
    "It's impossible to gain points here, so cheat every single time to prevent yourself from losing points."
   ]
  },
  {
   "cell_type": "code",
   "execution_count": 215,
   "id": "efa0946a",
   "metadata": {},
   "outputs": [
    {
     "name": "stdout",
     "output_type": "stream",
     "text": [
      "Best Strategy: (1, 1, 1, 1, 1) \n",
      "Player Score: 0 \n",
      "Opponent Score: 0\n",
      "Total Score: 11\n"
     ]
    }
   ],
   "source": [
    "highScore, cheatCoop = StartGame(5)\n",
    "\n",
    "for moveList in cheatCoop:\n",
    "    playerScore = 0\n",
    "    botScore = 0\n",
    "    botMove = 1\n",
    "    \n",
    "    for move in moveList:\n",
    "        playerGains, botGains = CalculateScore(move, botMove)\n",
    "        playerScore += playerGains\n",
    "        botScore += botGains\n",
    "\n",
    "    if playerScore >= highScore:\n",
    "        highScore = playerScore\n",
    "        oppScore = botScore\n",
    "        winningStrat = moveList\n",
    "\n",
    "totalScore += highScore\n",
    "EndGame(winningStrat, highScore, oppScore)\n",
    "print('Total Score:', totalScore)"
   ]
  },
  {
   "cell_type": "markdown",
   "id": "a4697f02",
   "metadata": {},
   "source": [
    "## Cooperator\n",
    "\n",
    "Just cheat every time like you did against the Cheater.  This time you'll receive maximum points while your opponent gets nothing."
   ]
  },
  {
   "cell_type": "code",
   "execution_count": 216,
   "id": "f287f23d",
   "metadata": {},
   "outputs": [
    {
     "name": "stdout",
     "output_type": "stream",
     "text": [
      "Best Strategy: (1, 1, 1, 1) \n",
      "Player Score: 12 \n",
      "Opponent Score: -4\n",
      "Total Score: 23\n"
     ]
    }
   ],
   "source": [
    "highScore, cheatCoop = StartGame(4)\n",
    "\n",
    "for moveList in cheatCoop:\n",
    "    playerScore = 0\n",
    "    botScore = 0\n",
    "    botMove = 0\n",
    "    \n",
    "    for move in moveList:\n",
    "        playerGains, botGains = CalculateScore(move, botMove)\n",
    "        playerScore += playerGains\n",
    "        botScore += botGains\n",
    "\n",
    "    if playerScore >= highScore:\n",
    "        highScore = playerScore\n",
    "        oppScore = botScore\n",
    "        winningStrat = moveList\n",
    "\n",
    "totalScore += highScore\n",
    "EndGame(winningStrat, highScore, oppScore)\n",
    "print('Total Score:', totalScore)"
   ]
  },
  {
   "cell_type": "markdown",
   "id": "98cd7dda",
   "metadata": {},
   "source": [
    "## Grudger\n",
    "\n",
    "Employ the exact same strategy as you did against the Copycat."
   ]
  },
  {
   "cell_type": "code",
   "execution_count": 217,
   "id": "45fdfe13",
   "metadata": {},
   "outputs": [
    {
     "name": "stdout",
     "output_type": "stream",
     "text": [
      "Best Strategy: (0, 0, 0, 0, 1) \n",
      "Player Score: 11 \n",
      "Opponent Score: 7\n",
      "Total Score: 34\n"
     ]
    }
   ],
   "source": [
    "highScore, cheatCoop = StartGame(5)\n",
    "\n",
    "for moveList in cheatCoop:\n",
    "    playerScore = 0\n",
    "    botScore = 0\n",
    "    botMove = 0\n",
    "    \n",
    "    for move in moveList:\n",
    "        playerGains, botGains = CalculateScore(move, botMove)\n",
    "        playerScore += playerGains\n",
    "        botScore += botGains\n",
    "        \n",
    "        if move == 1:\n",
    "            botMove = 1\n",
    "\n",
    "    if playerScore >= highScore:\n",
    "        highScore = playerScore\n",
    "        oppScore = botScore\n",
    "        winningStrat = moveList\n",
    "\n",
    "totalScore += highScore\n",
    "EndGame(winningStrat, highScore, oppScore)\n",
    "print('Total Score:', totalScore)"
   ]
  },
  {
   "cell_type": "markdown",
   "id": "afec2760",
   "metadata": {},
   "source": [
    "## Detective\n",
    "\n",
    "Against Sherlock Holmes, you have to cheat 3 times in a row, then cooperate for every round until the last, and finally cheat again."
   ]
  },
  {
   "cell_type": "code",
   "execution_count": 218,
   "id": "044d609d",
   "metadata": {},
   "outputs": [
    {
     "name": "stdout",
     "output_type": "stream",
     "text": [
      "Best Strategy: (1, 1, 1, 0, 0, 0, 1) \n",
      "Player Score: 15 \n",
      "Opponent Score: 3\n",
      "Total Score: 49\n"
     ]
    }
   ],
   "source": [
    "highScore, cheatCoop = StartGame(7)\n",
    "\n",
    "for moveList in cheatCoop:\n",
    "    playerScore = 0\n",
    "    botScore = 0\n",
    "    playerCheats = False\n",
    "    \n",
    "    for i in range(len(moveList)):\n",
    "        if moveList[i] == 1:\n",
    "            playerCheats = True\n",
    "\n",
    "        if i == 1:\n",
    "            botMove = 1\n",
    "\n",
    "        elif i < 4:\n",
    "            botMove = 0\n",
    "\n",
    "        else:\n",
    "            if not playerCheats:\n",
    "                botMove = 1\n",
    "\n",
    "            else:\n",
    "                botMove = moveList[i - 1]\n",
    "                \n",
    "        playerGains, botGains = CalculateScore(moveList[i], botMove)\n",
    "        playerScore += playerGains\n",
    "        botScore += botGains\n",
    "\n",
    "    if playerScore >= highScore:\n",
    "        highScore = playerScore\n",
    "        oppScore = botScore\n",
    "        winningStrat = moveList\n",
    "\n",
    "totalScore += highScore\n",
    "EndGame(winningStrat, highScore, oppScore)\n",
    "print('Total Score:', totalScore)"
   ]
  },
  {
   "cell_type": "markdown",
   "id": "58bde5dd",
   "metadata": {},
   "source": [
    "As you can see from the Total Score, my strategies produced the highest possible score against these 5 opponents.  The next 3 opponents can't be played against in the original Evolution of Trust game, so I programmed the simulations myself."
   ]
  },
  {
   "cell_type": "markdown",
   "id": "5b9abfa5",
   "metadata": {},
   "source": [
    "## Copy Kitten\n",
    "\n",
    "Alternate cheating and cooperating to trick her into always cooperating, since she won't cheat until you cheat twice in a row.  When there’s only two rounds left against Copy Kitten, cheat both times to maximize your score before she can retaliate."
   ]
  },
  {
   "cell_type": "code",
   "execution_count": 219,
   "id": "d93b3265",
   "metadata": {},
   "outputs": [
    {
     "name": "stdout",
     "output_type": "stream",
     "text": [
      "Best Strategy: (1, 0, 1, 0, 1, 0, 1, 0, 1, 1) \n",
      "Player Score: 26 \n",
      "Opponent Score: 3\n"
     ]
    }
   ],
   "source": [
    "highScore, cheatCoop = StartGame(10)\n",
    "\n",
    "for moveList in cheatCoop:\n",
    "    playerScore = 0\n",
    "    botScore = 0\n",
    "    \n",
    "    for i in range(len(moveList)):\n",
    "        playerGains, botGains = CalculateScore(moveList[i], botMove)\n",
    "        playerScore += playerGains\n",
    "        botScore += botGains\n",
    "\n",
    "        if i > 0:\n",
    "            if moveList[i] == 1 and moveList[i - 1] == 1:\n",
    "                botMove = 1\n",
    "\n",
    "            else:\n",
    "                botMove = 0\n",
    "    \n",
    "    if playerScore >= highScore:\n",
    "        highScore = playerScore\n",
    "        winningStrat = moveList\n",
    "    \n",
    "EndGame(winningStrat, highScore, oppScore)"
   ]
  },
  {
   "cell_type": "markdown",
   "id": "80bb0b48",
   "metadata": {},
   "source": [
    "## Simpleton\n",
    "\n",
    "Against the simpleton, employ the exact same strategy used against copycat and grudger.  For every 3 rounds against simpleton, you’ll always get 6 points whether you always cheat or always cooperate: 3 + 0 + 3 or 2 + 2 + 2.  So you want to cooperate every round until the last in order to keep the simpleton cooperating, then cheat in the final iteration."
   ]
  },
  {
   "cell_type": "code",
   "execution_count": 220,
   "id": "a0d864fc",
   "metadata": {},
   "outputs": [
    {
     "name": "stdout",
     "output_type": "stream",
     "text": [
      "Best Strategy: (0, 0, 0, 0, 0, 0, 0, 0, 0, 1) \n",
      "Player Score: 21 \n",
      "Opponent Score: 3\n"
     ]
    }
   ],
   "source": [
    "highScore, cheatCoop = StartGame(10)\n",
    "\n",
    "for moveList in cheatCoop:\n",
    "    playerScore = 0\n",
    "    botScore = 0\n",
    "    botMove = 0\n",
    "    \n",
    "    for move in moveList:\n",
    "        playerGains, botGains = CalculateScore(move, botMove)\n",
    "        playerScore += playerGains\n",
    "        botScore += botGains\n",
    "\n",
    "        if move == 1:\n",
    "            if botMove == 0:\n",
    "                botMove = 1\n",
    "\n",
    "            else:\n",
    "                botMove = 0\n",
    "                \n",
    "    if playerScore > highScore:\n",
    "        highScore = playerScore\n",
    "        winningStrat = moveList\n",
    "    \n",
    "EndGame(winningStrat, highScore, oppScore)"
   ]
  },
  {
   "cell_type": "markdown",
   "id": "9672c4bb",
   "metadata": {},
   "source": [
    "## Random\n",
    "\n",
    "Finally, against the random AI, the best strategy is to always cheat.  If you cooperate, then you have a 50% chance of either gaining 2 points or losing 1 point.  But cheating gives you the same odds of gaining 3 points or losing nothing.  The theoretical expected value of cooperating is: <br>\n",
    "0.5 * (2 - 1) = 0.5 while the expectation of cheating is: 0.5 * (0 + 3) = 1.5"
   ]
  },
  {
   "cell_type": "code",
   "execution_count": 224,
   "id": "18f17cf3",
   "metadata": {},
   "outputs": [
    {
     "name": "stdout",
     "output_type": "stream",
     "text": [
      "Rounds: 100 \n",
      "Top Score: 153 \n",
      "Enemy Score: 3\n"
     ]
    }
   ],
   "source": [
    "highScore = 0\n",
    "playerScore = 0\n",
    "botScore = 0\n",
    "rounds = 100\n",
    "moveList = []\n",
    "\n",
    "for i in range(rounds):\n",
    "    moveList.append(1)\n",
    "\n",
    "for move in moveList:\n",
    "    botMove = randrange(2)\n",
    "    playerGains, botGains = CalculateScore(move, botMove)\n",
    "    playerScore += playerGains\n",
    "    botScore += botGains\n",
    "\n",
    "if playerScore > highScore:\n",
    "    highScore = playerScore\n",
    "    winningStrat = moveList\n",
    "    \n",
    "print(\n",
    "    'Rounds:', rounds,\n",
    "    '\\nTop Score:', highScore, \n",
    "    '\\nEnemy Score:', oppScore\n",
    ")"
   ]
  },
  {
   "cell_type": "markdown",
   "id": "8e09f85c",
   "metadata": {},
   "source": [
    "What we've learned from all this is that the Evolution of Trust is not really a game of trust.  It's a game of prediction.  So long as you understand your opponent's behavioral patterns, you can perfectly predict their next move.  And if you know how many rounds are left in the game, then you'll be able to time your betrayal perfectly to maximize you own score while avoiding retaliation."
   ]
  }
 ],
 "metadata": {
  "kernelspec": {
   "display_name": "Python 3",
   "language": "python",
   "name": "python3"
  },
  "language_info": {
   "codemirror_mode": {
    "name": "ipython",
    "version": 3
   },
   "file_extension": ".py",
   "mimetype": "text/x-python",
   "name": "python",
   "nbconvert_exporter": "python",
   "pygments_lexer": "ipython3",
   "version": "3.8.8"
  }
 },
 "nbformat": 4,
 "nbformat_minor": 5
}
